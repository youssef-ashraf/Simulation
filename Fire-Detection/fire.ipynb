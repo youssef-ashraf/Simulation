{
 "cells": [
  {
   "cell_type": "code",
   "execution_count": 3,
   "metadata": {},
   "outputs": [
    {
     "name": "stderr",
     "output_type": "stream",
     "text": [
      "ERROR: Could not find a version that satisfies the requirement cv2 (from versions: none)\n",
      "ERROR: No matching distribution found for cv2\n"
     ]
    },
    {
     "name": "stdout",
     "output_type": "stream",
     "text": [
      "Requirement already satisfied: playsound in c:\\users\\adelt\\anaconda3\\lib\\site-packages (1.2.2)\n"
     ]
    }
   ],
   "source": [
    "!pip install cv2\n",
    "!pip install playsound"
   ]
  },
  {
   "cell_type": "code",
   "execution_count": 2,
   "metadata": {},
   "outputs": [],
   "source": [
    "import cv2\n",
    "import numpy as np\n",
    "import playsound\n",
    "import smtplib"
   ]
  },
  {
   "cell_type": "code",
   "execution_count": 3,
   "metadata": {},
   "outputs": [],
   "source": [
    "Fire_repoted = 0\n",
    "Alarm_statues = False\n",
    "Email_statues = True\n",
    "\n",
    "video = cv2.VideoCapture('Burning_Toy_Car.mp4')\n",
    "\n",
    "def play_audio():\n",
    "    playsound.playsound(\"AlarmSound.mp3\",True)\n",
    "    \n",
    "def send_email():\n",
    "    \n",
    "    recipientEmail = \"Enter_Your_Email\" \n",
    "    recipientEmail = recipientEmail.lower()\n",
    "\n",
    "    try:\n",
    "        server = smtplib.SMTP('smtp.gmail.com', 587)\n",
    "        server.ehlo()\n",
    "        server.starttls()\n",
    "        server.login(\"Enter_Your_Email\", 'Enter_Your_Email_Password')\n",
    "        server.sendmail('Enter_Your_Email', recipientEmail, \"Warning A Fire Accident has been reported on ABC Company\")\n",
    "        print(\"sent to {}\".format(recipientEmail))\n",
    "        server.close()\n",
    "    except Exception as e:\n",
    "        print(e)\n",
    "\n",
    "\n",
    "\n",
    "while True:\n",
    "    ret , frame = video.read() #ret equal false when there is no frame to read\n",
    "        \n",
    "    if ret == False:\n",
    "        break\n",
    "        \n",
    "    frame = cv2.resize(frame,(1000,600))    \n",
    "    blur = cv2.GaussianBlur(frame,(15,15),0) #remove some noises\n",
    "    hsv = cv2.cvtColor(blur,cv2.COLOR_BGR2HSV) #convert RGB to HSV\n",
    "    \n",
    "    # RGB color boundaries\n",
    "    lower = [18,120,120]\n",
    "    upper = [35,255,255]\n",
    "    \n",
    "    #create NumPy arrays from the boundaries\n",
    "    #8-bit unsigned int\n",
    "    lower = np.array(lower , dtype = \"uint8\") \n",
    "    upper = np.array(upper , dtype = \"uint8\")\n",
    "    \n",
    "    #creat mask\n",
    "    mask = cv2.inRange(hsv,lower,upper)\n",
    "    \n",
    "    output = cv2.bitwise_and(frame , hsv, mask=mask)    \n",
    "    \n",
    "    #enter the alarm\n",
    "    size = cv2.countNonZero(mask)\n",
    "    \n",
    "    if int(size) > 15000:\n",
    "        play_audio()\n",
    "        Alarm_statues = True\n",
    "        if Email_statues:\n",
    "            send_email()\n",
    "            Email_statues = False\n",
    "        \n",
    "    \n",
    "    cv2.imshow(\"Output\",output) \n",
    "    \n",
    "    if cv2.waitKey(1) & 0xFF == ord(\"q\"): #end while if someone clicks on q\n",
    "        break\n",
    "\n",
    "cv2.destroyAllWindows()\n",
    "video.release()"
   ]
  },
  {
   "cell_type": "code",
   "execution_count": null,
   "metadata": {},
   "outputs": [],
   "source": []
  },
  {
   "cell_type": "code",
   "execution_count": null,
   "metadata": {},
   "outputs": [],
   "source": []
  }
 ],
 "metadata": {
  "kernelspec": {
   "display_name": "Python 3",
   "language": "python",
   "name": "python3"
  },
  "language_info": {
   "codemirror_mode": {
    "name": "ipython",
    "version": 3
   },
   "file_extension": ".py",
   "mimetype": "text/x-python",
   "name": "python",
   "nbconvert_exporter": "python",
   "pygments_lexer": "ipython3",
   "version": "3.8.3"
  }
 },
 "nbformat": 4,
 "nbformat_minor": 4
}
